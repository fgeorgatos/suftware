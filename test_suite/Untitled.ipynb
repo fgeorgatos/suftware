{
 "cells": [
  {
   "cell_type": "code",
   "execution_count": 1,
   "metadata": {
    "collapsed": true
   },
   "outputs": [],
   "source": [
    "import numpy as np\n",
    "import pandas as pd\n",
    "\n",
    "H_bias_data = 'H_bias.txt'\n",
    "H_spread_data = 'H_spread.txt'\n",
    "H_estimate_data = 'H_estimate.txt'\n",
    "\n",
    "df_bias = pd.read_csv(H_bias_data, sep='\\t', dtype={'# trial':int, 'Naive':np.float64, 'Weighted':np.float64})\n",
    "df_spread = pd.read_csv(H_spread_data, sep='\\t', dtype={'# trial':int, 'Naive':np.float64, 'Weighted':np.float64})\n",
    "df_estimate = pd.read_csv(H_estimate_data, sep='\\t', dtype={'H_estimate':np.float64})\n",
    "\n",
    "d_bias = df_bias['Weighted']\n",
    "d_spread = df_spread['Weighted']\n",
    "d_estimate = df_estimate['H_estimate']"
   ]
  },
  {
   "cell_type": "code",
   "execution_count": 2,
   "metadata": {},
   "outputs": [
    {
     "name": "stdout",
     "output_type": "stream",
     "text": [
      "100\n",
      "min = 15.4 %\n",
      "max = 46.6 %\n"
     ]
    }
   ],
   "source": [
    "num_trials = 100\n",
    "\n",
    "m = 3\n",
    "\n",
    "counter = 0\n",
    "for i in range(num_trials):\n",
    "    bias = d_bias[i]\n",
    "    spread = d_spread[i]\n",
    "    if abs(bias) < m*spread:\n",
    "        counter += 1\n",
    "print counter\n",
    "\n",
    "# d_estimate = d_bias + 2.88\n",
    "d_ratio = m*d_spread / d_estimate\n",
    "print 'min = %.1f %%' % (d_ratio.min()*100)\n",
    "print 'max = %.1f %%' % (d_ratio.max()*100)"
   ]
  }
 ],
 "metadata": {
  "kernelspec": {
   "display_name": "Python 2",
   "language": "python",
   "name": "python2"
  },
  "language_info": {
   "codemirror_mode": {
    "name": "ipython",
    "version": 2
   },
   "file_extension": ".py",
   "mimetype": "text/x-python",
   "name": "python",
   "nbconvert_exporter": "python",
   "pygments_lexer": "ipython2",
   "version": "2.7.13"
  }
 },
 "nbformat": 4,
 "nbformat_minor": 2
}
