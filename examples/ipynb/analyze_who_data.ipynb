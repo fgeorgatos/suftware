{
 "cells": [
  {
   "cell_type": "code",
   "execution_count": 1,
   "metadata": {
    "collapsed": true
   },
   "outputs": [],
   "source": [
    "# Standard modules\n",
    "import numpy as np\n",
    "import scipy as sp\n",
    "import matplotlib as mpl\n",
    "import matplotlib.pyplot as plt\n",
    "\n",
    "# Other modules\n",
    "import sys\n",
    "import time\n",
    "import glob\n",
    "import os\n",
    "\n",
    "# Import suftware\n",
    "sys.path.append('../../')\n",
    "import suftware as sw"
   ]
  },
  {
   "cell_type": "code",
   "execution_count": 2,
   "metadata": {},
   "outputs": [
    {
     "data": {
      "text/plain": [
       "41"
      ]
     },
     "execution_count": 2,
     "metadata": {},
     "output_type": "execute_result"
    }
   ],
   "source": [
    "# Get list of datasets\n",
    "who_datasets = [name for name in sw.example_density_data__datasets if 'who.' in name]\n",
    "len(who_datasets)"
   ]
  },
  {
   "cell_type": "code",
   "execution_count": 3,
   "metadata": {},
   "outputs": [
    {
     "name": "stdout",
     "output_type": "stream",
     "text": [
      " 0: 0.449 sec for who.life_expectancy_male\n",
      " 1: 0.259 sec for who.family_planning\n",
      " 2: 0.193 sec for who.hiv_infections\n",
      " 3: 0.174 sec for who.child_overweight\n",
      " 4: 0.213 sec for who.health_professionals\n",
      " 5: 0.183 sec for who.dpt_immunization\n",
      " 6: 0.163 sec for who.clean_fuels\n",
      " 7: 0.214 sec for who.wash_mortality\n",
      " 8: 0.226 sec for who.sanitation\n",
      " 9: 0.215 sec for who.life_expectancy_female\n",
      "10: 0.205 sec for who.alcohol_consumption\n",
      "11: 0.166 sec for who.hepatitis_vaccine\n",
      "12: 0.272 sec for who.child_stunting\n",
      "13: 0.196 sec for who.suicide_moratlity\n",
      "14: 0.171 sec for who.child_wasting\n",
      "15: 0.243 sec for who.life_expectancy\n",
      "16: 0.257 sec for who.maternal_mortality\n",
      "17: 0.202 sec for who.score_avg\n",
      "18: 0.216 sec for who.population\n",
      "19: 0.214 sec for who.life_expectancy_healthy\n",
      "20: 0.250 sec for who.govt_expendature\n",
      "21: 0.188 sec for who.smoking_female\n",
      "22: 0.179 sec for who.early_disease_deaths\n",
      "23: 0.283 sec for who.conflict_deaths\n",
      "24: 0.198 sec for who.poisoning_mortality\n",
      "25: 0.236 sec for who.tb_indicence\n",
      "26: 0.208 sec for who.air_pollution_mortality\n",
      "27: 0.194 sec for who.attended_births\n",
      "28: 0.184 sec for who.health_and_research\n",
      "29: 0.223 sec for who.ntd_interventions\n",
      "30: 0.163 sec for who.adolescent_births\n",
      "31: 0.188 sec for who.smoking_male\n",
      "32: 0.198 sec for who.neonatal_moratlity\n",
      "33: 0.271 sec for who.cause_of_death_known\n",
      "34: 0.234 sec for who.homicide\n",
      "35: 0.231 sec for who.particulate_matter\n",
      "36: 0.245 sec for who.under_five_mortality\n",
      "37: 0.181 sec for who.clean_water\n",
      "38: 0.250 sec for who.natural_disasters\n",
      "39: 0.202 sec for who.traffic_mortality\n",
      "40: 0.362 sec for who.malaria_incidence\n"
     ]
    }
   ],
   "source": [
    "# Simulate data\n",
    "figsize = [4,4]\n",
    "\n",
    "# Remove previous files\n",
    "who_files = glob.glob('../plots/who.*')\n",
    "for file in who_files:\n",
    "    os.remove(file)\n",
    "    \n",
    "# Plot each dataset\n",
    "for n, dataset_name in enumerate(who_datasets):\n",
    "\n",
    "    # Use example data\n",
    "    data, details = sw.example_density_data(dataset_name)\n",
    "\n",
    "    # Perform density estimation\n",
    "    start = time.time()\n",
    "    Q = sw.Density(data)\n",
    "    stop = time.time()\n",
    "    print('%2d: %.3f sec for %s'%(n, stop-start, dataset_name))\n",
    "\n",
    "    ### Plot results ###\n",
    "    fig, ax = plt.subplots(figsize=figsize)\n",
    "    \n",
    "    # Plot histogram\n",
    "    ax.bar(Q.grid, Q.histogram, width=Q.grid_spacing, color='orange')\n",
    "\n",
    "    # Plot Q_samples\n",
    "    if Q.num_posterior_samples > 0:\n",
    "        ax.plot(Q.grid, Q.sample_values, color='dodgerblue', linewidth=1, alpha = .1)\n",
    "\n",
    "    # Plot Q_star\n",
    "    ax.plot(Q.grid, Q.evaluate(Q.grid), color='b', linewidth=2)\n",
    "\n",
    "    # Style plot\n",
    "    ax.set_xlim(Q.bounding_box)\n",
    "    ax.set_title(details['description'])\n",
    "    ax.set_xlabel(details['units'])\n",
    "    ax.set_yticks([])\n",
    "    ax.tick_params('x', rotation=45)\n",
    "    \n",
    "    plt.tight_layout()\n",
    "    fig.savefig('../plots/%s.pdf'%dataset_name)\n",
    "    \n",
    "    plt.close(fig)"
   ]
  },
  {
   "cell_type": "code",
   "execution_count": null,
   "metadata": {
    "collapsed": true
   },
   "outputs": [],
   "source": []
  }
 ],
 "metadata": {
  "kernelspec": {
   "display_name": "anaconda_kernel",
   "language": "python",
   "name": "anaconda_kernel"
  },
  "language_info": {
   "codemirror_mode": {
    "name": "ipython",
    "version": 3
   },
   "file_extension": ".py",
   "mimetype": "text/x-python",
   "name": "python",
   "nbconvert_exporter": "python",
   "pygments_lexer": "ipython3",
   "version": "3.6.3"
  }
 },
 "nbformat": 4,
 "nbformat_minor": 2
}
