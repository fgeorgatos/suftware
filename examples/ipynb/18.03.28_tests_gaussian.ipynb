{
 "cells": [
  {
   "cell_type": "code",
   "execution_count": 1,
   "metadata": {},
   "outputs": [
    {
     "data": {
      "image/png": "[encoded data removed]",
      "text/plain": [
       "<matplotlib.figure.Figure at 0x11532fb00>"
      ]
     },
     "metadata": {},
     "output_type": "display_data"
    }
   ],
   "source": [
    "# Standard modules\n",
    "import numpy as np\n",
    "import sys\n",
    "\n",
    "# Import suftware \n",
    "sys.path.append('../../')\n",
    "import suftware as sw\n",
    "\n",
    "# Generate datas\n",
    "np.random.seed(0)\n",
    "data = np.random.randn(100)\n",
    "\n",
    "# simple test\n",
    "sw.Density(data).plot() "
   ]
  },
  {
   "cell_type": "code",
   "execution_count": 2,
   "metadata": {},
   "outputs": [
    {
     "name": "stdout",
     "output_type": "stream",
     "text": [
      "Error, as expected: type(grid) = <class 'int'>; must be a list or np.ndarray\n",
      "Error, as expected: type(grid) = <class 'set'>; must be a list or np.ndarray\n",
      "Error, as expected: len(grid) = 5; must have 6 <= len(grid) <= 1000.\n",
      "Error, as expected: len(grid) = 1001; must have 6 <= len(grid) <= 1000.\n",
      "Error, as expected: Histogram has 0 nonempty bins; must be > 3.\n",
      "Error, as expected: Histogram has 2 nonempty bins; must be > 3.\n",
      "Success, as expected.\n",
      "Success, as expected.\n",
      "Success, as expected.\n",
      "Success, as expected.\n",
      "Success, as expected.\n",
      "Success, as expected.\n",
      "Success, as expected.\n",
      "Success, as expected.\n"
     ]
    },
    {
     "data": {
      "text/plain": [
       "<src.density.Density at 0x114277630>"
      ]
     },
     "execution_count": 2,
     "metadata": {},
     "output_type": "execute_result"
    }
   ],
   "source": [
    "# grid\n",
    "\n",
    "# Should fail\n",
    "sw.Density(data, grid=5, should_fail=True)\n",
    "sw.Density(data, grid=set(np.linspace(-3,3,100)), should_fail=True)\n",
    "sw.Density(data, grid=np.linspace(-3,3,5), should_fail=True)\n",
    "sw.Density(data, grid=np.linspace(-3,3,1001), should_fail=True)\n",
    "sw.Density(data, grid=np.linspace(-1E-6,1E-6,100), should_fail=True)\n",
    "sw.Density(data, grid=np.linspace(-1E6,1E6,100), should_fail=True)\n",
    "\n",
    "\n",
    "# Should work\n",
    "sw.Density(data, grid=np.linspace(-3,3,100), should_fail=False)\n",
    "sw.Density(data, grid=np.linspace(-3,3,100).T, should_fail=False)\n",
    "sw.Density(data, grid=np.matrix(np.linspace(-3,3,100)), should_fail=False)\n",
    "sw.Density(data, grid=np.matrix(np.linspace(-3,3,100).T), should_fail=False)\n",
    "sw.Density(data, grid=list(np.linspace(-3,3,100)), should_fail=False)\n",
    "sw.Density(data, grid=np.linspace(-3,3,6), should_fail=False)\n",
    "sw.Density(data, grid=np.linspace(-3,3,100), should_fail=False)\n",
    "sw.Density(data, grid=np.linspace(-3,3,1000), should_fail=False)"
   ]
  },
  {
   "cell_type": "code",
   "execution_count": 3,
   "metadata": {},
   "outputs": [
    {
     "name": "stdout",
     "output_type": "stream",
     "text": [
      "Error, as expected: type(bounding_box) = <class 'set'>; must be one of (<class 'list'>, <class 'tuple'>, <class 'numpy.ndarray'>)\n",
      "Error, as expected: type(bounding_box) = <class 'int'>; must be one of (<class 'list'>, <class 'tuple'>, <class 'numpy.ndarray'>)\n",
      "Error, as expected: len(bounding_box) = 1; must be 2\n",
      "Error, as expected: len(bounding_box) = 3; must be 2\n",
      "Error, as expected: bounding_box = ['-6', '6']; entries must be numbers\n",
      "Error, as expected: bounding_box = [6, 6]; entries must be sorted\n",
      "Error, as expected: type(bounding_box) = <class 'str'>; must be one of (<class 'list'>, <class 'tuple'>, <class 'numpy.ndarray'>)\n",
      "Success, as expected.\n",
      "Success, as expected.\n",
      "Success, as expected.\n",
      "Success, as expected.\n",
      "Success, as expected.\n",
      "Error, as expected: Histogram has 0 nonempty bins; must be > 3.\n",
      "Error, as expected: Histogram has 2 nonempty bins; must be > 3.\n",
      "Error, as expected: Histogram has 0 nonempty bins; must be > 3.\n"
     ]
    },
    {
     "data": {
      "text/plain": [
       "<src.density.Density at 0x11532f6d8>"
      ]
     },
     "execution_count": 3,
     "metadata": {},
     "output_type": "execute_result"
    }
   ],
   "source": [
    "# bounding_box\n",
    "\n",
    "# Invalid input\n",
    "sw.Density(data, bounding_box={-6, 6}, should_fail=True)\n",
    "sw.Density(data, bounding_box=6, should_fail=True)\n",
    "sw.Density(data, bounding_box=[6], should_fail=True)\n",
    "sw.Density(data, bounding_box=[-6, 0, 6], should_fail=True)\n",
    "sw.Density(data, bounding_box=['-6', '6'], should_fail=True)\n",
    "sw.Density(data, bounding_box=[6, 6], should_fail=True)\n",
    "sw.Density(data, bounding_box='[-6, 6]', should_fail=True)\n",
    "\n",
    "# Valid input\n",
    "sw.Density(data, bounding_box=[-6, 6], should_fail=False)\n",
    "sw.Density(data, bounding_box=(-6, 6), should_fail=False)\n",
    "sw.Density(data, bounding_box=np.array([-6, 6]), should_fail=False)\n",
    "sw.Density(data, bounding_box=[-.1, .1], should_fail=False)\n",
    "sw.Density(data, bounding_box=[-10, 10], should_fail=False)\n",
    "\n",
    "# To few filled bins\n",
    "sw.Density(data, bounding_box=[-1E-6, 1E-6], should_fail=True)\n",
    "sw.Density(data, bounding_box=[-1E6, 1E6], should_fail=True)\n",
    "sw.Density(data, bounding_box=[10, 20], should_fail=True)"
   ]
  },
  {
   "cell_type": "code",
   "execution_count": 4,
   "metadata": {},
   "outputs": [
    {
     "name": "stdout",
     "output_type": "stream",
     "text": [
      "Error, as expected: grid_spacing = 0.000000; must be > 0.\n",
      "Error, as expected: grid_spacing = 0.000000; must be > 0.\n",
      "Error, as expected: grid_spacing = -0.100000; must be > 0.\n",
      "Error, as expected: type(grid_spacing) = <class 'str'>; must be a number\n",
      "Error, as expected: type(grid_spacing) = <class 'list'>; must be a number\n",
      "Error, as expected: Using grid_spacing = 0.000100 produces num_grid_points = 67518, which is too big. Increase grid_spacing or do not set.\n",
      "Error, as expected: Using grid_spacing = 1000.000000 produces num_grid_points = 0, which is too small. Reduce grid_spacing or do not set.\n",
      "Success, as expected.\n",
      "Success, as expected.\n",
      "Success, as expected.\n",
      "Success, as expected.\n"
     ]
    },
    {
     "data": {
      "text/plain": [
       "<src.density.Density at 0x1121122b0>"
      ]
     },
     "execution_count": 4,
     "metadata": {},
     "output_type": "execute_result"
    }
   ],
   "source": [
    "# grid_spacing\n",
    "\n",
    "# Invalid input\n",
    "sw.Density(data, grid_spacing=0, should_fail=True)\n",
    "sw.Density(data, grid_spacing=0.0, should_fail=True)\n",
    "sw.Density(data, grid_spacing=-0.1, should_fail=True)\n",
    "sw.Density(data, grid_spacing='0.1', should_fail=True)\n",
    "sw.Density(data, grid_spacing=[0.1], should_fail=True)\n",
    "\n",
    "# Insane values\n",
    "sw.Density(data, grid_spacing=0.0001, should_fail=True)\n",
    "sw.Density(data, grid_spacing=1000.0, should_fail=True)\n",
    "\n",
    "# Should work\n",
    "sw.Density(data, grid_spacing=None, should_fail=False)\n",
    "sw.Density(data, grid_spacing=0.02, should_fail=False)\n",
    "sw.Density(data, grid_spacing=0.1, should_fail=False)\n",
    "sw.Density(data, grid_spacing=0.5, should_fail=False)"
   ]
  },
  {
   "cell_type": "code",
   "execution_count": 5,
   "metadata": {},
   "outputs": [
    {
     "name": "stdout",
     "output_type": "stream",
     "text": [
      "Error, as expected: num_grid_points = -10; must have 6 <= num_grid_poitns <= 1000.\n",
      "Error, as expected: num_grid_points = -1; must have 6 <= num_grid_poitns <= 1000.\n",
      "Error, as expected: num_grid_points = 0; must have 6 <= num_grid_poitns <= 1000.\n",
      "Error, as expected: num_grid_points = 1; must have 6 <= num_grid_poitns <= 1000.\n",
      "Error, as expected: num_grid_points = 2; must have 6 <= num_grid_poitns <= 1000.\n",
      "Error, as expected: num_grid_points = 3; must have 6 <= num_grid_poitns <= 1000.\n",
      "Error, as expected: num_grid_points = 4; must have 6 <= num_grid_poitns <= 1000.\n",
      "Error, as expected: num_grid_points = 5; must have 6 <= num_grid_poitns <= 1000.\n",
      "Error, as expected: num_grid_points = 1001; must have 6 <= num_grid_poitns <= 1000.\n",
      "Success, as expected.\n",
      "Success, as expected.\n",
      "Success, as expected.\n"
     ]
    },
    {
     "data": {
      "text/plain": [
       "<src.density.Density at 0x11219cda0>"
      ]
     },
     "execution_count": 5,
     "metadata": {},
     "output_type": "execute_result"
    }
   ],
   "source": [
    "# num_grid_points\n",
    "\n",
    "# Fails\n",
    "sw.Density(data, num_grid_points=-10, should_fail=True)\n",
    "sw.Density(data, num_grid_points=-1, should_fail=True)\n",
    "sw.Density(data, num_grid_points=0, should_fail=True)\n",
    "sw.Density(data, num_grid_points=1, should_fail=True)\n",
    "sw.Density(data, num_grid_points=2, should_fail=True)\n",
    "sw.Density(data, num_grid_points=3, should_fail=True)\n",
    "sw.Density(data, num_grid_points=4, should_fail=True)\n",
    "sw.Density(data, num_grid_points=5, should_fail=True)\n",
    "sw.Density(data, num_grid_points=1001, should_fail=True)\n",
    "\n",
    "# Works\n",
    "sw.Density(data, num_grid_points=6, should_fail=False)\n",
    "sw.Density(data, num_grid_points=100, should_fail=False)\n",
    "sw.Density(data, num_grid_points=1000, should_fail=False)\n"
   ]
  },
  {
   "cell_type": "code",
   "execution_count": null,
   "metadata": {
    "collapsed": true
   },
   "outputs": [],
   "source": []
  }
 ],
 "metadata": {
  "kernelspec": {
   "display_name": "anaconda_kernel",
   "language": "python",
   "name": "anaconda_kernel"
  },
  "language_info": {
   "codemirror_mode": {
    "name": "ipython",
    "version": 3
   },
   "file_extension": ".py",
   "mimetype": "text/x-python",
   "name": "python",
   "nbconvert_exporter": "python",
   "pygments_lexer": "ipython3",
   "version": "3.6.3"
  }
 },
 "nbformat": 4,
 "nbformat_minor": 2
}
