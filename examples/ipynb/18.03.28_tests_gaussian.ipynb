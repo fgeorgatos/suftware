{
 "cells": [
  {
   "cell_type": "code",
   "execution_count": 1,
   "metadata": {},
   "outputs": [
    {
     "data": {
      "image/png": "[encoded data removed]",
      "text/plain": [
       "<matplotlib.figure.Figure at 0x10e73feb8>"
      ]
     },
     "metadata": {},
     "output_type": "display_data"
    }
   ],
   "source": [
    "# Standard modules\n",
    "import numpy as np\n",
    "import sys\n",
    "\n",
    "# Import suftware \n",
    "sys.path.append('../../')\n",
    "import suftware as sw\n",
    "\n",
    "# Generate datas\n",
    "np.random.seed(0)\n",
    "data = np.random.randn(100)\n",
    "\n",
    "# simple test\n",
    "sw.Density(data).plot() "
   ]
  },
  {
   "cell_type": "code",
   "execution_count": 12,
   "metadata": {},
   "outputs": [
    {
     "data": {
      "text/plain": [
       "<src.density.Density at 0x11372d4e0>"
      ]
     },
     "execution_count": 12,
     "metadata": {},
     "output_type": "execute_result"
    }
   ],
   "source": [
    "# bounding_box\n",
    "\n",
    "# Invalid input\n",
    "sw.Density(data, bounding_box={-6, 6}, should_fail=True)\n",
    "sw.Density(data, bounding_box=6, should_fail=True)\n",
    "sw.Density(data, bounding_box=[6], should_fail=True)\n",
    "sw.Density(data, bounding_box=[-6, 0, 6], should_fail=True)\n",
    "sw.Density(data, bounding_box=['-6', '6'], should_fail=True)\n",
    "sw.Density(data, bounding_box=[6, 6], should_fail=True)\n",
    "sw.Density(data, bounding_box='[-6, 6]', should_fail=True)\n",
    "\n",
    "# Valid input\n",
    "sw.Density(data, bounding_box=[-6, 6], should_fail=False)\n",
    "sw.Density(data, bounding_box=(-6, 6), should_fail=False)\n",
    "sw.Density(data, bounding_box=np.array([-6, 6]), should_fail=False)\n",
    "sw.Density(data, bounding_box=[-.1, .1], should_fail=False)\n",
    "sw.Density(data, bounding_box=[-10, 10], should_fail=False)\n",
    "\n",
    "# To few filled bins\n",
    "sw.Density(data, bounding_box=[-1E-6, 1E-6], should_fail=True)\n",
    "sw.Density(data, bounding_box=[-1E6, 1E6], should_fail=True)\n",
    "sw.Density(data, bounding_box=[10, 20], should_fail=True)"
   ]
  },
  {
   "cell_type": "code",
   "execution_count": 13,
   "metadata": {},
   "outputs": [
    {
     "data": {
      "text/plain": [
       "<src.density.Density at 0x1137cf278>"
      ]
     },
     "execution_count": 13,
     "metadata": {},
     "output_type": "execute_result"
    }
   ],
   "source": [
    "# grid_spacing\n",
    "\n",
    "# Invalid input\n",
    "sw.Density(data, grid_spacing=0, should_fail=True)\n",
    "sw.Density(data, grid_spacing=0.0, should_fail=True)\n",
    "sw.Density(data, grid_spacing=-0.1, should_fail=True)\n",
    "sw.Density(data, grid_spacing='0.1', should_fail=True)\n",
    "sw.Density(data, grid_spacing=[0.1], should_fail=True)\n",
    "\n",
    "# Insane values\n",
    "sw.Density(data, grid_spacing=0.0001, should_fail=True)\n",
    "sw.Density(data, grid_spacing=1000.0, should_fail=True)\n",
    "\n",
    "# Should work\n",
    "sw.Density(data, grid_spacing=None, should_fail=False)\n",
    "sw.Density(data, grid_spacing=0.02, should_fail=False)\n",
    "sw.Density(data, grid_spacing=0.1, should_fail=False)\n",
    "sw.Density(data, grid_spacing=0.5, should_fail=False)"
   ]
  },
  {
   "cell_type": "code",
   "execution_count": 14,
   "metadata": {},
   "outputs": [
    {
     "data": {
      "text/plain": [
       "<src.density.Density at 0x116103c88>"
      ]
     },
     "execution_count": 14,
     "metadata": {},
     "output_type": "execute_result"
    }
   ],
   "source": [
    "# num_grid_points\n",
    "\n",
    "# Fails\n",
    "sw.Density(data, num_grid_points=-10, should_fail=True)\n",
    "sw.Density(data, num_grid_points=-1, should_fail=True)\n",
    "sw.Density(data, num_grid_points=0, should_fail=True)\n",
    "sw.Density(data, num_grid_points=1, should_fail=True)\n",
    "sw.Density(data, num_grid_points=2, should_fail=True)\n",
    "sw.Density(data, num_grid_points=3, should_fail=True)\n",
    "sw.Density(data, num_grid_points=4, should_fail=True)\n",
    "sw.Density(data, num_grid_points=5, should_fail=True)\n",
    "sw.Density(data, num_grid_points=1001, should_fail=True)\n",
    "\n",
    "# Works\n",
    "sw.Density(data, num_grid_points=6, should_fail=False)\n",
    "sw.Density(data, num_grid_points=100, should_fail=False)\n",
    "sw.Density(data, num_grid_points=1000, should_fail=False)\n"
   ]
  },
  {
   "cell_type": "code",
   "execution_count": null,
   "metadata": {},
   "outputs": [],
   "source": [
    "# # grid\n",
    "\n",
    "# sw.Density(data, grid=None, should_fail=False)\n",
    "\n",
    "# # Fails some of the time, but in a controlled manner\n",
    "# for x in np.logspace(-3,3,10):\n",
    "#     try:\n",
    "#         sw.Density(data, grid=np.linspace(-x,x,100)) \n",
    "#     except sw.ControlledError:\n",
    "#         print('Failed for x = %f'%x)\n",
    "    "
   ]
  },
  {
   "cell_type": "code",
   "execution_count": null,
   "metadata": {
    "collapsed": true
   },
   "outputs": [],
   "source": []
  }
 ],
 "metadata": {
  "kernelspec": {
   "display_name": "anaconda_kernel",
   "language": "python",
   "name": "anaconda_kernel"
  },
  "language_info": {
   "codemirror_mode": {
    "name": "ipython",
    "version": 3
   },
   "file_extension": ".py",
   "mimetype": "text/x-python",
   "name": "python",
   "nbconvert_exporter": "python",
   "pygments_lexer": "ipython3",
   "version": "3.6.3"
  }
 },
 "nbformat": 4,
 "nbformat_minor": 2
}
