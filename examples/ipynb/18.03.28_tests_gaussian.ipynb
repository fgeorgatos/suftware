{
 "cells": [
  {
   "cell_type": "code",
   "execution_count": 1,
   "metadata": {
    "collapsed": true
   },
   "outputs": [],
   "source": [
    "# Standard modules\n",
    "import numpy as np\n",
    "import sys\n",
    "\n",
    "# Import suftware \n",
    "sys.path.append('../../')\n",
    "import suftware as sw\n",
    "\n",
    "# Generate datas\n",
    "data = np.random.randn(100)"
   ]
  },
  {
   "cell_type": "code",
   "execution_count": 2,
   "metadata": {},
   "outputs": [],
   "source": [
    "# simple test\n",
    "density = sw.Density(data) "
   ]
  },
  {
   "cell_type": "code",
   "execution_count": 3,
   "metadata": {},
   "outputs": [
    {
     "data": {
      "text/plain": [
       "<src.density.Density at 0x106fa2320>"
      ]
     },
     "execution_count": 3,
     "metadata": {},
     "output_type": "execute_result"
    }
   ],
   "source": [
    "# grid_spacing\n",
    "\n",
    "# Invalid input\n",
    "sw.Density(data, grid_spacing=0, should_fail=True)\n",
    "sw.Density(data, grid_spacing=0.0, should_fail=True)\n",
    "sw.Density(data, grid_spacing=-0.1, should_fail=True)\n",
    "sw.Density(data, grid_spacing='0.1', should_fail=True)\n",
    "sw.Density(data, grid_spacing=[0.1], should_fail=True)\n",
    "\n",
    "# Insane values\n",
    "sw.Density(data, grid_spacing=0.0001, should_fail=True)\n",
    "sw.Density(data, grid_spacing=1000.0, should_fail=True)\n",
    "\n",
    "# Should work\n",
    "sw.Density(data, grid_spacing=None, should_fail=False)\n",
    "sw.Density(data, grid_spacing=0.02, should_fail=False)\n",
    "sw.Density(data, grid_spacing=0.1, should_fail=False)\n",
    "sw.Density(data, grid_spacing=0.5, should_fail=False)"
   ]
  },
  {
   "cell_type": "code",
   "execution_count": 7,
   "metadata": {},
   "outputs": [
    {
     "name": "stdout",
     "output_type": "stream",
     "text": [
      "Error:  /deft_core.run/ Only 0 elements of counts_array contain data, less than kernel dimension 3\n"
     ]
    },
    {
     "name": "stderr",
     "output_type": "stream",
     "text": [
      "/Users/jkinney/anaconda3/lib/python3.6/site-packages/numpy/lib/scimath.py:262: RuntimeWarning: divide by zero encountered in log\n",
      "  return nx.log(x)\n"
     ]
    },
    {
     "ename": "SystemExit",
     "evalue": "1",
     "output_type": "error",
     "traceback": [
      "An exception has occurred, use %tb to see the full traceback.\n",
      "\u001b[0;31mSystemExit\u001b[0m\u001b[0;31m:\u001b[0m 1\n"
     ]
    },
    {
     "name": "stderr",
     "output_type": "stream",
     "text": [
      "/Users/jkinney/anaconda3/lib/python3.6/site-packages/IPython/core/interactiveshell.py:2870: UserWarning: To exit: use 'exit', 'quit', or Ctrl-D.\n",
      "  warn(\"To exit: use 'exit', 'quit', or Ctrl-D.\", stacklevel=1)\n"
     ]
    }
   ],
   "source": [
    "# grid\n",
    "\n",
    "sw.Density(data, grid=None, should_fail=False)\n",
    "\n",
    "# Fails some of the time, but in a controlled manner\n",
    "for x in np.logspace(-3,3,10):\n",
    "    try:\n",
    "        sw.Density(data, grid=np.linspace(-x,x,100)) \n",
    "    except sw.ControlledError:\n",
    "        print('Failed for x = %f'%x)\n",
    "    "
   ]
  },
  {
   "cell_type": "code",
   "execution_count": null,
   "metadata": {
    "collapsed": true
   },
   "outputs": [],
   "source": []
  }
 ],
 "metadata": {
  "kernelspec": {
   "display_name": "anaconda_kernel",
   "language": "python",
   "name": "anaconda_kernel"
  },
  "language_info": {
   "codemirror_mode": {
    "name": "ipython",
    "version": 3
   },
   "file_extension": ".py",
   "mimetype": "text/x-python",
   "name": "python",
   "nbconvert_exporter": "python",
   "pygments_lexer": "ipython3",
   "version": "3.6.3"
  }
 },
 "nbformat": 4,
 "nbformat_minor": 2
}
