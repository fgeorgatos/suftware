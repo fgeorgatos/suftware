{
 "cells": [
  {
   "cell_type": "code",
   "execution_count": 1,
   "metadata": {},
   "outputs": [],
   "source": [
    "# Standard imports\n",
    "import numpy as np\n",
    "import pandas as pd\n",
    "import matplotlib as mpl\n",
    "import matplotlib.pyplot as plt\n",
    "\n",
    "# Needed for advanced plotting\n",
    "import matplotlib.patches as patches\n",
    "\n",
    "# For plotting inline\n",
    "%matplotlib inline\n",
    "plt.ion()"
   ]
  },
  {
   "cell_type": "code",
   "execution_count": 2,
   "metadata": {},
   "outputs": [],
   "source": [
    "# Import suftware (use development copy)\n",
    "import sys\n",
    "sys.path.append('../../suftware')\n",
    "\n",
    "import suftware as sw"
   ]
  },
  {
   "cell_type": "code",
   "execution_count": 3,
   "metadata": {},
   "outputs": [],
   "source": [
    "# Set default plotting parameters\n",
    "mpl.rcParams['font.family'] = 'serif'\n",
    "mpl.rcParams['font.serif'] = ['Times New Roman']\n",
    "mpl.rc('text', usetex=True)\n",
    "fontsize=9\n",
    "mpl.rcParams['font.size'] = fontsize\n",
    "mpl.rcParams['hatch.linewidth'] = 1\n",
    "mpl.rcParams['hatch.color'] = 'black'"
   ]
  },
  {
   "cell_type": "code",
   "execution_count": 4,
   "metadata": {},
   "outputs": [],
   "source": [
    "# Load raw information extracted from figure\n",
    "raw_df = pd.read_excel('data/CMS2012.xlsx').fillna(0)"
   ]
  },
  {
   "cell_type": "code",
   "execution_count": 5,
   "metadata": {},
   "outputs": [
    {
     "data": {
      "text/html": [
       "<div>\n",
       "<style scoped>\n",
       "    .dataframe tbody tr th:only-of-type {\n",
       "        vertical-align: middle;\n",
       "    }\n",
       "\n",
       "    .dataframe tbody tr th {\n",
       "        vertical-align: top;\n",
       "    }\n",
       "\n",
       "    .dataframe thead th {\n",
       "        text-align: right;\n",
       "    }\n",
       "</style>\n",
       "<table border=\"1\" class=\"dataframe\">\n",
       "  <thead>\n",
       "    <tr style=\"text-align: right;\">\n",
       "      <th></th>\n",
       "      <th>bins</th>\n",
       "      <th>data</th>\n",
       "      <th>bg</th>\n",
       "      <th>bg+H</th>\n",
       "    </tr>\n",
       "  </thead>\n",
       "  <tbody>\n",
       "    <tr>\n",
       "      <th>0</th>\n",
       "      <td>72</td>\n",
       "      <td>1.0</td>\n",
       "      <td>0.181</td>\n",
       "      <td>0.181</td>\n",
       "    </tr>\n",
       "    <tr>\n",
       "      <th>1</th>\n",
       "      <td>75</td>\n",
       "      <td>0.0</td>\n",
       "      <td>0.249</td>\n",
       "      <td>0.249</td>\n",
       "    </tr>\n",
       "    <tr>\n",
       "      <th>2</th>\n",
       "      <td>78</td>\n",
       "      <td>0.0</td>\n",
       "      <td>0.383</td>\n",
       "      <td>0.383</td>\n",
       "    </tr>\n",
       "    <tr>\n",
       "      <th>3</th>\n",
       "      <td>81</td>\n",
       "      <td>0.0</td>\n",
       "      <td>0.666</td>\n",
       "      <td>0.666</td>\n",
       "    </tr>\n",
       "    <tr>\n",
       "      <th>4</th>\n",
       "      <td>84</td>\n",
       "      <td>0.0</td>\n",
       "      <td>1.323</td>\n",
       "      <td>1.323</td>\n",
       "    </tr>\n",
       "  </tbody>\n",
       "</table>\n",
       "</div>"
      ],
      "text/plain": [
       "   bins  data     bg   bg+H\n",
       "0    72   1.0  0.181  0.181\n",
       "1    75   0.0  0.249  0.249\n",
       "2    78   0.0  0.383  0.383\n",
       "3    81   0.0  0.666  0.666\n",
       "4    84   0.0  1.323  1.323"
      ]
     },
     "execution_count": 5,
     "metadata": {},
     "output_type": "execute_result"
    }
   ],
   "source": [
    "# Clean up dataframe\n",
    "df = raw_df[['bins','data']].copy()\n",
    "df['bg'] = raw_df['green']+raw_df['blue-green']\n",
    "df['bg+H'] = df['bg'] + raw_df['red-blue']\n",
    "df.head()"
   ]
  },
  {
   "cell_type": "code",
   "execution_count": 6,
   "metadata": {},
   "outputs": [
    {
     "name": "stdout",
     "output_type": "stream",
     "text": [
      "Expected N_tot: 71.3 +/- 8.4\n",
      "Expected N_bg: 63.9 +/- 8.0\n",
      "Expected N_H: 7.4 +/- 2.7\n",
      "N_H / N_tot: 10.3%\n"
     ]
    }
   ],
   "source": [
    "# How many of each type of event (bg or H) are expected?\n",
    "expected_N_tot = df['bg+H'].sum()\n",
    "expected_N_bg = df['bg'].sum()\n",
    "expected_N_H = expected_N_tot-expected_N_bg\n",
    "print('Expected N_tot: %.1f +/- %.1f'%(expected_N_tot,np.sqrt(expected_N_tot)))\n",
    "print('Expected N_bg: %.1f +/- %.1f'%(expected_N_bg,np.sqrt(expected_N_bg)))\n",
    "print('Expected N_H: %.1f +/- %.1f'%(expected_N_H,np.sqrt(expected_N_H)))\n",
    "print('N_H / N_tot: %.1f%%'%(100*expected_N_H/expected_N_tot))"
   ]
  },
  {
   "cell_type": "code",
   "execution_count": 7,
   "metadata": {},
   "outputs": [
    {
     "name": "stdout",
     "output_type": "stream",
     "text": [
      "Dataset: [72.0, 87.0, 87.0, 90.0, 90.0, 90.0, 90.0, 90.0, 90.0, 90.0, 90.0, 93.0, 93.0, 93.0, 93.0, 93.0, 96.0, 96.0, 96.0, 96.0, 96.0, 99.0, 99.0, 99.0, 102.0, 114.0, 117.0, 120.0, 123.0, 123.0, 123.0, 126.0, 126.0, 126.0, 126.0, 129.0, 129.0, 132.0, 132.0, 138.0, 141.0, 144.0, 147.0, 147.0, 153.0, 156.0, 162.0, 165.0, 165.0, 165.0, 168.0, 174.0, 174.0, 177.0, 177.0, 180.0, 180.0, 180.0]\n"
     ]
    }
   ],
   "source": [
    "# Generate data so SUFTware can histogram it again. Shouldn't have to do this.\n",
    "data = []\n",
    "for n, row in df.iterrows():\n",
    "    data.extend([row['bins']]*int(row['data']))\n",
    "grid = df['bins'].values\n",
    "\n",
    "print('Dataset: %s'%repr(data))"
   ]
  },
  {
   "cell_type": "code",
   "execution_count": 8,
   "metadata": {},
   "outputs": [],
   "source": [
    "# Do density estimation\n",
    "num_samples = 1000\n",
    "density = sw.DensityEstimator(data=data,grid=grid,num_posterior_samples=num_samples, seed=0)"
   ]
  },
  {
   "cell_type": "code",
   "execution_count": 9,
   "metadata": {},
   "outputs": [],
   "source": [
    "# Extract information to plot\n",
    "bins = df['bins'].values\n",
    "hist = df['data'].values\n",
    "bg = df['bg'].values\n",
    "bgH = df['bg+H'].values\n",
    "\n",
    "N = df['data'].sum()\n",
    "h = bins[1]-bins[0]\n",
    "\n",
    "# Create xs to interpolate density on\n",
    "xmin, xmax = density.bounding_box\n",
    "xs = np.linspace(xmin,xmax,1000)\n",
    "\n",
    "# Compute estimated densitya nd fluctuations\n",
    "count_density = N*h*density.evaluate(xs)\n",
    "count_fluctuations = N*h*density.evaluate_samples(xs)"
   ]
  },
  {
   "cell_type": "code",
   "execution_count": 10,
   "metadata": {},
   "outputs": [],
   "source": [
    "xlim = density.bounding_box\n",
    "ylim = [0,12]\n",
    "def plot_higgs(ax, zorder=0):\n",
    "    \"\"\"\n",
    "    Function to plot Higgs data similar to in CMS Collaboration, 2012, Fig. 3\n",
    "    \"\"\"\n",
    "    \n",
    "    # Plot Higgs prediction\n",
    "    ax.step(bins,bgH,\n",
    "           label='Higgs ($m_\\mathrm{H}$=125 GeV)',\n",
    "           where='mid',\n",
    "           color='red',\n",
    "           linewidth=1,\n",
    "           zorder=zorder)\n",
    "\n",
    "    # Plot background\n",
    "    fill_blue=[.60,.81,1.00]\n",
    "    ax.bar(bins,bg,\n",
    "           label='background',\n",
    "           width=h,\n",
    "           color='lightskyblue',\n",
    "           zorder=zorder)\n",
    "    ax.step(bins,bg,color='k',linewidth=1,where='mid',zorder=zorder)\n",
    "    \n",
    "    # Plot data\n",
    "    ax.plot(bins,hist, \n",
    "            markersize=3, \n",
    "            marker='o', \n",
    "            color='k',\n",
    "            linewidth=0,\n",
    "            label='data ($N$=%d)'%(N),\n",
    "            zorder=zorder+1)\n",
    "\n",
    "    # Style plot\n",
    "    ax.set_xlim(xlim)\n",
    "    ax.set_ylabel('events / 3 GeV')\n",
    "    ax.set_ylim(ylim)\n",
    "    yticks = np.arange(ylim[1]+1)\n",
    "    yticklabels = [('%d'%y if y%2==0 else '') for y in yticks]\n",
    "    ax.set_yticks(yticks)\n",
    "    ax.set_yticklabels(yticklabels)\n",
    "    ax.legend()\n",
    "    #ax.minorticks_on()\n",
    "    \n",
    "    # Label x axis\n",
    "    ax.set_xlabel('$m_{4 \\ell}$ (GeV)')"
   ]
  },
  {
   "cell_type": "code",
   "execution_count": 11,
   "metadata": {},
   "outputs": [
    {
     "data": {
      "image/png": "[encoded data removed]",
      "text/plain": [
       "<matplotlib.figure.Figure at 0x1a125c2278>"
      ]
     },
     "metadata": {},
     "output_type": "display_data"
    }
   ],
   "source": [
    "# Make Fig. 3 for manuscript\n",
    "fig, axs = plt.subplots(2,1,figsize=[3.4,4.5])\n",
    "\n",
    "### Panel (A)\n",
    "ax = axs[0]\n",
    "plot_higgs(ax, zorder=-10)\n",
    "\n",
    "# Prepare legend\n",
    "handles,labels = ax.get_legend_handles_labels()\n",
    "indices=[1,2,0]\n",
    "labels = [labels[i] for i in indices]\n",
    "handles = [handles[i] for i in indices]\n",
    "ax.legend(handles,labels, fontsize=9)\n",
    "\n",
    "### Panel (B)\n",
    "ax = axs[1]\n",
    "plot_higgs(ax, zorder=-10)\n",
    "\n",
    "# Create a Rectangle patch\n",
    "rect = patches.Rectangle((xlim[0],ylim[0]),\n",
    "                         xlim[1]-xlim[0],\n",
    "                         ylim[1]-ylim[0],\n",
    "                         facecolor='white',\n",
    "                         edgecolor='white',\n",
    "                         alpha=.7,\n",
    "                         zorder=-1)\n",
    "\n",
    "# Add the patch to the Axes\n",
    "ax.add_patch(rect)\n",
    "\n",
    "# Set number of posterior samples to show\n",
    "num_samples_to_show=100\n",
    "\n",
    "# Plot DEFT fluctuations\n",
    "ax.plot(xs,100+count_fluctuations[:,0], \n",
    "        linewidth=.5, \n",
    "        alpha=1, \n",
    "        color='olivedrab',\n",
    "        label='DEFT: $Q \\sim p(Q|\\mathrm{data})$',\n",
    "        zorder=-1) # Dummy plot just for legend entry\n",
    "ax.plot(xs,count_fluctuations[:,:num_samples_to_show], \n",
    "        linewidth=.5, \n",
    "        alpha=.2, \n",
    "        color='olivedrab',\n",
    "        zorder=-1) \n",
    "\n",
    "# Plot DEFT best fit\n",
    "ax.plot(xs,count_density, \n",
    "        label='DEFT: $Q^*$',\n",
    "        linewidth=2,\n",
    "        color='black',\n",
    "        alpha=1,\n",
    "        zorder=0)\n",
    "\n",
    "# Prepare legend\n",
    "handles,labels = ax.get_legend_handles_labels()\n",
    "indices=[3,2]\n",
    "labels = [labels[i] for i in indices]\n",
    "handles = [handles[i] for i in indices]\n",
    "ax.legend(handles,labels, fontsize=9)\n",
    "\n",
    "# Label pannels\n",
    "fig.text(x=.01, y=.98, s='(a)', fontsize=12, horizontalalignment='left', verticalalignment='top')\n",
    "fig.text(x=.01, y=.50, s='(b)', fontsize=12, horizontalalignment='left', verticalalignment='top')\n",
    "\n",
    "# Do tight layout\n",
    "plt.tight_layout()\n",
    "\n",
    "fig.savefig('figures/fig_3.pdf')"
   ]
  },
  {
   "cell_type": "code",
   "execution_count": 12,
   "metadata": {},
   "outputs": [
    {
     "name": "stdout",
     "output_type": "stream",
     "text": [
      "Best estimate peaks at 126.7 GeV\n",
      "Samples peak at 125.6 GeV +/- 6.4 GeV\n"
     ]
    }
   ],
   "source": [
    "# Where is the maximum?\n",
    "indices = (xs > 110) & (xs < 140)\n",
    "tmp_xs = xs[indices]\n",
    "tmp_density = density.evaluate(tmp_xs)\n",
    "i = tmp_density.argmax()\n",
    "print('Best estimate peaks at %.1f GeV'%tmp_xs[i])\n",
    "\n",
    "tmp_samples = density.evaluate_samples(tmp_xs)\n",
    "maxima = []\n",
    "for j in range(num_samples):\n",
    "    i = tmp_samples[:,j].argmax()\n",
    "    maxima.append(tmp_xs[i])\n",
    "maxima = np.array(maxima)\n",
    "print('Samples peak at %.1f GeV +/- %0.1f GeV'%(maxima.mean(),maxima.std()))"
   ]
  },
  {
   "cell_type": "code",
   "execution_count": 13,
   "metadata": {},
   "outputs": [
    {
     "name": "stdout",
     "output_type": "stream",
     "text": [
      "Num posterior samples: 1000\n",
      "In interval: [110.0 GeV, 140.0 GeV]\n",
      "Pct samples with no interior maxima: 6.9%\n",
      "Pct samples with one interior maximum: 81.2%\n",
      "Pct samples with multipel interior maxima: = 11.9%\n",
      "Lone maxima: 127.1 GeV +/- 3.7 GeV\n"
     ]
    }
   ],
   "source": [
    "# What fraction of points have exactly one interior maximum between \n",
    "\n",
    "def get_interior_maxima(ys, xs, xmin, xmax):\n",
    "    \"\"\"Counts number of interior maxima in a specified interval\"\"\"\n",
    "    indices = (xs >= xmin) & (xs <= xmax)\n",
    "    y = ys[indices]\n",
    "    x = xs[indices]\n",
    "    K = len(y)\n",
    "    optima_locations = []\n",
    "    for i in range(1,K-1):\n",
    "        if y[i]>y[i-1] and y[i]>y[i+1]:\n",
    "            optima_locations.append(x[i])\n",
    "    return optima_locations\n",
    "\n",
    "# Get number of posterior samples\n",
    "num_samples = count_fluctuations.shape[1]\n",
    "print('Num posterior samples: %d'%num_samples)\n",
    "\n",
    "# Count interior maxima within a specified interval\n",
    "xmin = 110\n",
    "xmax = 140\n",
    "print('In interval: [%.1f GeV, %.1f GeV]'%(xmin,xmax))\n",
    "maxima_list = []\n",
    "for n in range(num_samples):\n",
    "    ys = count_fluctuations[:,n]\n",
    "    interior_maxima = get_interior_maxima(ys,xs=xs,xmin=xmin,xmax=xmax)\n",
    "    maxima_list.append(interior_maxima)\n",
    "    \n",
    "# Describe the number of interior maxima\n",
    "num_no_maxima = sum([len(v)==0 for v in maxima_list])\n",
    "print('Pct samples with no interior maxima: %.1f%%'%(100*num_no_maxima/num_samples))\n",
    "\n",
    "num_single_maxima = sum([len(v)==1 for v in maxima_list])\n",
    "print('Pct samples with one interior maximum: %.1f%%'%(100*num_single_maxima/num_samples))\n",
    "\n",
    "num_multiple_maxima = sum([len(v)>=2 for v in maxima_list])\n",
    "print('Pct samples with multipel interior maxima: = %.1f%%'%(100*num_multiple_maxima/num_samples))\n",
    "\n",
    "# Compute the mean and std energy of lone maxima\n",
    "lone_maxima = np.array([v for v in maxima_list if len(v)==1]).ravel()\n",
    "print('Lone maxima: %.1f GeV +/- %0.1f GeV'%(lone_maxima.mean(), lone_maxima.std()))"
   ]
  }
 ],
 "metadata": {
  "kernelspec": {
   "display_name": "Python 3",
   "language": "python",
   "name": "python3"
  },
  "language_info": {
   "codemirror_mode": {
    "name": "ipython",
    "version": 3
   },
   "file_extension": ".py",
   "mimetype": "text/x-python",
   "name": "python",
   "nbconvert_exporter": "python",
   "pygments_lexer": "ipython3",
   "version": "3.6.4"
  }
 },
 "nbformat": 4,
 "nbformat_minor": 2
}
