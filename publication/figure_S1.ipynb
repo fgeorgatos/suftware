{
 "cells": [
  {
   "cell_type": "code",
   "execution_count": 1,
   "metadata": {},
   "outputs": [],
   "source": [
    "# Standard imports\n",
    "import numpy as np\n",
    "import matplotlib as mpl\n",
    "import matplotlib.pyplot as plt\n",
    "\n",
    "# For plotting inline\n",
    "%matplotlib inline\n",
    "plt.ion()"
   ]
  },
  {
   "cell_type": "code",
   "execution_count": 2,
   "metadata": {},
   "outputs": [],
   "source": [
    "# Set default plotting parameters\n",
    "mpl.rcParams['font.family'] = 'serif'\n",
    "mpl.rcParams['font.serif'] = ['Times New Roman']\n",
    "mpl.rc('text', usetex=True)\n",
    "fontsize=9\n",
    "mpl.rcParams['font.size'] = fontsize\n",
    "mpl.rcParams['hatch.linewidth'] = 1\n",
    "mpl.rcParams['hatch.color'] = 'black'"
   ]
  },
  {
   "cell_type": "code",
   "execution_count": 3,
   "metadata": {},
   "outputs": [
    {
     "data": {
      "image/png": "[encoded data removed]",
      "text/plain": [
       "<matplotlib.figure.Figure at 0x110928390>"
      ]
     },
     "metadata": {},
     "output_type": "display_data"
    }
   ],
   "source": [
    "f = lambda dphi: np.exp(-dphi)-1+dphi\n",
    "flap = lambda dphi: 0.5*dphi**2\n",
    "\n",
    "betas = [.05,20]\n",
    "titles = ['data rich regime', 'data poor regime']\n",
    "\n",
    "figsize=[5,2.75]\n",
    "fig, axs = plt.subplots(1,2,figsize=figsize)\n",
    "\n",
    "for n, beta in enumerate(betas):\n",
    "    ax = axs[n]\n",
    "    xlim = [-np.sqrt(4*beta),np.sqrt(4*beta)]\n",
    "    ylim = [0,2*beta]\n",
    "    dphis = np.linspace(xlim[0],xlim[1],1000)\n",
    "\n",
    "    ax.axvline(0,linestyle='--',color='k', alpha=.2)\n",
    "    ax.axhline(beta, linestyle='--', color='g', alpha=.5)\n",
    "    ax.plot(dphis,f(dphis))\n",
    "    ax.plot(dphis,flap(dphis),':')\n",
    "    \n",
    "    if n==0:\n",
    "        arrow_y = beta+.0025\n",
    "        arrow_xmin = -.3\n",
    "        arrow_xmax = 0\n",
    "        arrow_xmid = arrow_xmin/2\n",
    "        ax.annotate('',\n",
    "                    xy=(arrow_xmin, arrow_y), \n",
    "                    xytext=(arrow_xmax, arrow_y),\n",
    "                    arrowprops={'arrowstyle':'->'})\n",
    "        ax.text(arrow_xmid, arrow_y+.0025, '$\\delta \\phi^-$', horizontalalignment='center', verticalalignment='bottom')\n",
    "        \n",
    "        arrow_y = beta-.0025\n",
    "        arrow_xmin = 0\n",
    "        arrow_xmax = .3\n",
    "        arrow_xmid = arrow_xmax/2\n",
    "        ax.annotate('',\n",
    "                    xy=(arrow_xmin, arrow_y), \n",
    "                    xytext=(arrow_xmax, arrow_y),\n",
    "                    arrowprops={'arrowstyle':'<-'})\n",
    "        ax.text(arrow_xmid, arrow_y+.0025, '$\\delta \\phi^+$', horizontalalignment='center', verticalalignment='bottom')\n",
    "        \n",
    "        \n",
    "        #ax.plot(0, arrow_y, 'ok')\n",
    "        \n",
    "    elif n==1:\n",
    "        arrow_y = beta+1\n",
    "        arrow_xmin = -3.3\n",
    "        arrow_xmax = 0\n",
    "        arrow_xmid = -1.5\n",
    "        ax.annotate('',\n",
    "                    xy=(arrow_xmin, arrow_y), \n",
    "                    xytext=(arrow_xmax, arrow_y),\n",
    "                    arrowprops={'arrowstyle':'->'})\n",
    "        ax.text(arrow_xmid, arrow_y+1, '$\\delta \\phi^-$', horizontalalignment='center', verticalalignment='bottom')\n",
    "        \n",
    "        arrow_y = beta-1\n",
    "        arrow_xmin = 0\n",
    "        arrow_xmax = xlim[1]\n",
    "        arrow_xmid = 4\n",
    "        ax.annotate('',\n",
    "                    xy=(arrow_xmin, arrow_y), \n",
    "                    xytext=(arrow_xmax, arrow_y),\n",
    "                    arrowprops={'arrowstyle':'<-'})\n",
    "        ax.annotate('',\n",
    "                    xy=(arrow_xmin, arrow_y), \n",
    "                    xytext=(arrow_xmax-.5, arrow_y),\n",
    "                    arrowprops={'arrowstyle':'<-'})\n",
    "        ax.text(arrow_xmid, arrow_y+1, '$\\delta \\phi^+$', horizontalalignment='center', verticalalignment='bottom')\n",
    "        \n",
    "    ax.set_xlim(xlim)\n",
    "    ax.set_ylim(ylim)\n",
    "    ax.set_title(titles[n] + '\\n($T_\\\\mathrm{eff} = %0.1f$)'%(2*beta))\n",
    "    ax.set_yticks([beta])\n",
    "    ax.set_yticklabels(['$\\\\frac{T_{\\mathrm{eff}}}{2}$'])\n",
    "    ax.set_xlabel('$ \\\\leftarrow \\\\delta \\\\phi \\\\rightarrow$')\n",
    "    \n",
    "plt.tight_layout(w_pad=3)\n",
    "fig.savefig('figures/fig_S1.pdf')\n"
   ]
  },
  {
   "cell_type": "code",
   "execution_count": null,
   "metadata": {},
   "outputs": [],
   "source": []
  }
 ],
 "metadata": {
  "kernelspec": {
   "display_name": "Python 3",
   "language": "python",
   "name": "python3"
  },
  "language_info": {
   "codemirror_mode": {
    "name": "ipython",
    "version": 3
   },
   "file_extension": ".py",
   "mimetype": "text/x-python",
   "name": "python",
   "nbconvert_exporter": "python",
   "pygments_lexer": "ipython3",
   "version": "3.6.4"
  }
 },
 "nbformat": 4,
 "nbformat_minor": 2
}
