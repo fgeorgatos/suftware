{
 "cells": [
  {
   "cell_type": "code",
   "execution_count": 1,
   "metadata": {
    "collapsed": true
   },
   "outputs": [],
   "source": [
    "# Standard imports\n",
    "import numpy as np\n",
    "import matplotlib as mpl\n",
    "import matplotlib.pyplot as plt\n",
    "\n",
    "# Other\n",
    "from scipy.stats import pearsonr\n",
    "import matplotlib.gridspec as gridspec\n",
    "import pickle\n",
    "\n",
    "# For plotting inline\n",
    "%matplotlib inline\n",
    "plt.ion()"
   ]
  },
  {
   "cell_type": "code",
   "execution_count": 2,
   "metadata": {
    "collapsed": true
   },
   "outputs": [],
   "source": [
    "# Import suftware (use development copy)\n",
    "import sys\n",
    "sys.path.append('../../suftware')\n",
    "\n",
    "import suftware as sw"
   ]
  },
  {
   "cell_type": "code",
   "execution_count": 3,
   "metadata": {
    "collapsed": true
   },
   "outputs": [],
   "source": [
    "# Set default plotting style\n",
    "mpl.rcParams['font.family'] = 'serif'\n",
    "mpl.rcParams['font.serif'] = ['Times New Roman']\n",
    "mpl.rc('text', usetex=True)\n",
    "fontsize=7\n",
    "mpl.rcParams['font.size'] = fontsize\n",
    "mpl.rcParams['hatch.linewidth'] = 1\n",
    "mpl.rcParams['hatch.color'] = 'black'"
   ]
  },
  {
   "cell_type": "code",
   "execution_count": 5,
   "metadata": {},
   "outputs": [
    {
     "data": {
      "image/png": "[encoded data removed]",
      "text/plain": [
       "<matplotlib.figure.Figure at 0x12348ec18>"
      ]
     },
     "metadata": {},
     "output_type": "display_data"
    }
   ],
   "source": [
    "np.random.seed(0)\n",
    "\n",
    "fig = plt.figure(figsize=[3.4,3])\n",
    "gs1 = gridspec.GridSpec(2, 2, hspace=.1, wspace=.5, left=0.12, right=0.97, top=.99, bottom=.70)\n",
    "gs2 = gridspec.GridSpec(1, 2, hspace=.1, wspace=.5, left=0.12, right=0.97, top=.55, bottom=.13)\n",
    "\n",
    "files = [\n",
    "    'N_100/bbox_small',\n",
    "    'N_100/bbox_large'\n",
    "]\n",
    "lims = [\n",
    "    (-0.005,.055),\n",
    "    (-.55,.05)\n",
    "]\n",
    "ticks = [\n",
    "    (0,.05),\n",
    "    (-.5,.0)\n",
    "]\n",
    "\n",
    "sample_files = [\n",
    "    'N_100/Q_samples_N100_small_bbox_fixed_l',\n",
    "    'N_100/Q_samples_N100_large_bbox_fixed_l'\n",
    "]\n",
    "\n",
    "R_files = [\n",
    "    'N_100/R_small_bbox',\n",
    "    'N_100/R_large_bbox'\n",
    "]\n",
    "\n",
    "#Q_lim=[.6,.4]\n",
    "\n",
    "density_names = ['DoubleGaussianZoom', 'DoubleGaussian']\n",
    "\n",
    "for i, name in enumerate(density_names):\n",
    "    \n",
    "    # Get Q_true stuff\n",
    "    #s = bbox_stuff(bbox)\n",
    "    #xs = s.xs\n",
    "    #Q_true = s.Q_true\n",
    "    #h = s.h\n",
    "    \n",
    "    density = sw.SimulatedDensity(name)\n",
    "    bbox = density.bounding_box\n",
    "    G = 100\n",
    "    L = bbox[1]-bbox[0]\n",
    "    h = L/G\n",
    "    xs = np.linspace(density.xmin+h/2, density.xmax-h/2, G)\n",
    "    Q_true = density.evaluate(xs)\n",
    "    ymax = 1.5*max(Q_true)\n",
    "    \n",
    "    #\n",
    "    # Middle plot 2\n",
    "    #\n",
    "    ax = plt.subplot(gs1[0, i])\n",
    "    \n",
    "    # Plot samples at fixed ell\n",
    "    ax.fill_between(xs, Q_true, color='silver')\n",
    "    ax.axhline(0,linestyle='--',color='k',linewidth=.5)\n",
    "    \n",
    "    # Format axes\n",
    "    ax.set_xlim(bbox)\n",
    "    ax.set_ylim([0,ymax])\n",
    "    ax.set_yticks([])\n",
    "    ax.set_xticks([])\n",
    "    \n",
    "    ybound = .1\n",
    "    ax.spines['top'].set_visible(False) \n",
    "    ax.spines['bottom'].set_visible(False) \n",
    "    ax.spines['right'].set_visible(False) \n",
    "    ax.spines['left'].set_visible(False) \n",
    "    \n",
    "    \n",
    "    # Plot samples at fixed ell\n",
    "    ax = plt.subplot(gs1[1, i])\n",
    "    with open(sample_files[i],'rb') as f:\n",
    "        Qs = pickle.load(f, encoding='latin1')\n",
    "    Qs /= np.sum(h*Qs, axis=0)[np.newaxis,:]\n",
    "    num_samples=200\n",
    "    indices = np.random.choice(Qs.shape[1],num_samples)\n",
    "    ax.plot(xs, Qs[:,indices], color='mediumvioletred', linewidth=.5, alpha=.3, zorder=-1000)\n",
    "    ax.axhline(0,linestyle='--',color='k',linewidth=.5)\n",
    "    \n",
    "    # Format axes\n",
    "    ax.set_xlim(bbox)\n",
    "    ax.set_ylim([0,ymax])\n",
    "    ax.set_yticks([])\n",
    "    ax.set_xticks([bbox[0],bbox[1]])\n",
    "    ax.set_xlabel('$x$', labelpad=-7)\n",
    "    ax.tick_params(length=0)\n",
    "    \n",
    "    ybound = .05\n",
    "    ax.spines['top'].set_visible(False) \n",
    "    ax.spines['bottom'].set_visible(False) \n",
    "    ax.spines['right'].set_bounds(0,ybound) \n",
    "    ax.spines['left'].set_bounds(0,ybound) \n",
    "    \n",
    "    #\n",
    "    # Lower plot\n",
    "    #\n",
    "    ax = plt.subplot(gs2[0, i], aspect='equal')\n",
    "\n",
    "    # Load Feynman vs importanc sampling data\n",
    "    p = pickle.load(open(files[i],'rb'), encoding='latin1')\n",
    "    feyn = p[:,0]\n",
    "    imp = p[:,1]\n",
    "    #print('Number of data points in (%s): %d'%(['d','h'][i],len(feyn)))\n",
    "    d_imp = p[:,2]/np.sqrt(1E5)\n",
    "    signal_to_noise = np.var(feyn)/np.var(feyn-imp)\n",
    "    ax.errorbar(feyn, imp, d_imp, color='k', marker='o', markersize=3, markeredgewidth=0, \n",
    "                linestyle='none', elinewidth=0.5, alpha=1)\n",
    "    lim = lims[i]\n",
    "    rho, pval = pearsonr(feyn,imp)\n",
    "    \n",
    "    # Format axes\n",
    "    ax.set_xlim(lim)\n",
    "    ax.set_ylim(lim)\n",
    "    ax.set_xticks(ticks[i])\n",
    "    ax.set_yticks(ticks[i])\n",
    "    ax.set_ylabel('$\\log Z/Z^\\mathrm{Lap}$\\n(sampling)', labelpad=-15)\n",
    "    ax.set_xlabel('$\\log Z/Z^\\mathrm{Lap}$\\n(diagrams)', labelpad=-5)\n",
    "    ax.plot(lim,lim,'--',zorder=-10, color='gray', linewidth=.5)\n",
    "    ax.set_title('$x \\in [%d,%d]: \\\\rho^2$ = %0.2f'%(bbox[0], bbox[1], rho**2), fontsize=fontsize, y=.98)\n",
    "    \n",
    "# Label figure\n",
    "l = .01\n",
    "r = .53\n",
    "t = .98\n",
    "b = .62\n",
    "label_fontsize=12\n",
    "plt.figtext(l, t, '(a)', horizontalalignment='left', verticalalignment='top', fontsize=label_fontsize)\n",
    "plt.figtext(l, b, '(c)', horizontalalignment='left', verticalalignment='top', fontsize=label_fontsize)\n",
    "plt.figtext(r, t, '(b)', horizontalalignment='left', verticalalignment='top', fontsize=label_fontsize)\n",
    "plt.figtext(r, b, '(d)', horizontalalignment='left', verticalalignment='top', fontsize=label_fontsize)\n",
    "    \n",
    "fig.savefig('figures/fig_S2.pdf')\n",
    "    \n"
   ]
  },
  {
   "cell_type": "code",
   "execution_count": null,
   "metadata": {
    "collapsed": true
   },
   "outputs": [],
   "source": []
  },
  {
   "cell_type": "code",
   "execution_count": null,
   "metadata": {
    "collapsed": true
   },
   "outputs": [],
   "source": []
  }
 ],
 "metadata": {
  "anaconda-cloud": {},
  "kernelspec": {
   "display_name": "anaconda_kernel",
   "language": "python",
   "name": "anaconda_kernel"
  },
  "language_info": {
   "codemirror_mode": {
    "name": "ipython",
    "version": 3
   },
   "file_extension": ".py",
   "mimetype": "text/x-python",
   "name": "python",
   "nbconvert_exporter": "python",
   "pygments_lexer": "ipython3",
   "version": "3.6.3"
  }
 },
 "nbformat": 4,
 "nbformat_minor": 1
}
